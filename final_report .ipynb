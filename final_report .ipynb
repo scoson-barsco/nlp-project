{
 "cells": [
  {
   "cell_type": "markdown",
   "id": "7c9298ea-d17c-4b5a-8bc6-6cf1727ade7d",
   "metadata": {},
   "source": [
    "\n",
    "# Final Report\n",
    "* Wilson Velasco\n",
    "* Scott Barnett\n",
    "\n",
    "## NLP Project\n"
   ]
  },
  {
   "cell_type": "markdown",
   "id": "3bc23e11-8e2e-4a48-a6bb-78996e908d56",
   "metadata": {},
   "source": [
    "NLP Project## Goals\n",
    "* Construct a ML model that predicts which programming language was used\n",
    "* Find key indicators of language\n",
    "* Deliver a report to the data science team \n",
    "* Deliver a presentation to a general audience"
   ]
  },
  {
   "cell_type": "markdown",
   "id": "771ff34b-4b39-46ec-9e72-893a4ed8b369",
   "metadata": {
    "tags": []
   },
   "source": [
    "## Imports"
   ]
  },
  {
   "cell_type": "code",
   "execution_count": 1,
   "id": "938f8785-6d6f-4df7-b121-6578d6cd045e",
   "metadata": {},
   "outputs": [],
   "source": [
    "import warnings\n",
    "warnings.filterwarnings(\"ignore\")\n",
    "import pandas as pd\n",
    "import numpy as np\n",
    "import math\n",
    "import matplotlib.pyplot as plt\n",
    "import seaborn as sns\n",
    "from pydataset import data\n",
    "import scipy.stats as stats\n",
    "import seaborn as sns\n",
    "import sklearn\n",
    "from sklearn.metrics import accuracy_score\n",
    "from sklearn.metrics import recall_score\n",
    "from sklearn.metrics import mutual_info_score\n",
    "from sklearn.model_selection import train_test_split\n",
    "from sklearn.metrics import classification_report, confusion_matrix, plot_confusion_matrix\n",
    "import acquire\n",
    "import wrangle\n",
    "import functions\n"
   ]
  },
  {
   "cell_type": "markdown",
   "id": "d2a7890d-065c-48df-9653-7e35f206e9a3",
   "metadata": {},
   "source": [
    "## Acquire\n",
    "\n",
    "* Data acquired from \n",
    "    *    .csv files were imported\n",
    "    \n",
    "* Original dataframe contained `SHAPE` rows and `SHAPE` columns\n",
    "* The data was aquired on 27 June 2023\n",
    "* Each row represents a seperate GitHub repository\n",
    "* Each column represents a feature of the repository\n"
   ]
  },
  {
   "cell_type": "markdown",
   "id": "c910c06f-78c6-43eb-8448-086c4d8e05da",
   "metadata": {
    "tags": []
   },
   "source": [
    "## Prepare\n",
    "\n",
    "* Prepared data\n",
    "    * Change column names to remove spaces\n",
    "    * \n",
    "* There were `no null or missing values`\n",
    "* \n",
    "* \n",
    "* Outliers were not addressed in this itteration\n",
    "* Split data into **train**, **validate**, **test**\n",
    "    \n"
   ]
  },
  {
   "cell_type": "markdown",
   "id": "f0e59c79-77be-4df4-8068-f920443a89f1",
   "metadata": {},
   "source": [
    "### Data Dictionary"
   ]
  },
  {
   "cell_type": "markdown",
   "id": "0aa91558-8b2c-4ecc-bdaa-a86993c0e0c6",
   "metadata": {},
   "source": [
    "| Feature | Datatype | Key | Definition |\n",
    "|---|---|---|---|\n",
    "| repo | object | unique | Name of GitHub directory |\n",
    "| language | object | unique | Programming language used |\n",
    "| readme_contents | object | unique  | contents of the readme file  |"
   ]
  },
  {
   "cell_type": "markdown",
   "id": "7b4d21e0-248c-459f-848c-ba82b6dc612b",
   "metadata": {},
   "source": [
    "### Bring in Data for Exploration"
   ]
  },
  {
   "cell_type": "code",
   "execution_count": 2,
   "id": "82b55ba1-fa0b-4898-8161-35c3b922e48e",
   "metadata": {},
   "outputs": [
    {
     "name": "stdout",
     "output_type": "stream",
     "text": [
      "train -> (3897, 14), 59.98%\n",
      "validate -> (1300, 14),20.01%\n",
      "test -> (1300, 14), 20.01%\n"
     ]
    }
   ],
   "source": [
    "# Bring in data .csv \n",
    "\n",
    "# Split data\n",
    "train, validate, test = wrangle.split_data(df)"
   ]
  },
  {
   "cell_type": "markdown",
   "id": "d20ea549-d03b-4671-aaf0-2fac30ea4d0e",
   "metadata": {},
   "source": [
    "### Sneak Peak at the Data\n"
   ]
  },
  {
   "cell_type": "code",
   "execution_count": 9,
   "id": "e52be9b6-cd07-43ed-a13b-48c4f8b9a659",
   "metadata": {},
   "outputs": [
    {
     "ename": "NameError",
     "evalue": "name 'train' is not defined",
     "output_type": "error",
     "traceback": [
      "\u001b[0;31m---------------------------------------------------------------------------\u001b[0m",
      "\u001b[0;31mNameError\u001b[0m                                 Traceback (most recent call last)",
      "Input \u001b[0;32mIn [9]\u001b[0m, in \u001b[0;36m<cell line: 1>\u001b[0;34m()\u001b[0m\n\u001b[0;32m----> 1\u001b[0m \u001b[43mtrain\u001b[49m\u001b[38;5;241m.\u001b[39mhead(\u001b[38;5;241m3\u001b[39m)\n",
      "\u001b[0;31mNameError\u001b[0m: name 'train' is not defined"
     ]
    }
   ],
   "source": [
    "train.head(3)"
   ]
  },
  {
   "cell_type": "markdown",
   "id": "fc2c096e-d449-4973-82a6-b9631eaff7a4",
   "metadata": {},
   "source": [
    "### Summary of Data"
   ]
  },
  {
   "cell_type": "code",
   "execution_count": 8,
   "id": "753af9a8-b82b-47e2-9076-326184f44731",
   "metadata": {},
   "outputs": [
    {
     "ename": "NameError",
     "evalue": "name 'train' is not defined",
     "output_type": "error",
     "traceback": [
      "\u001b[0;31m---------------------------------------------------------------------------\u001b[0m",
      "\u001b[0;31mNameError\u001b[0m                                 Traceback (most recent call last)",
      "Input \u001b[0;32mIn [8]\u001b[0m, in \u001b[0;36m<cell line: 1>\u001b[0;34m()\u001b[0m\n\u001b[0;32m----> 1\u001b[0m \u001b[43mtrain\u001b[49m\u001b[38;5;241m.\u001b[39mdescribe()\n",
      "\u001b[0;31mNameError\u001b[0m: name 'train' is not defined"
     ]
    }
   ],
   "source": [
    "train.describe()"
   ]
  },
  {
   "cell_type": "markdown",
   "id": "8d2f6eeb-6226-4091-a869-56950471443d",
   "metadata": {},
   "source": [
    "## Exploration"
   ]
  },
  {
   "cell_type": "markdown",
   "id": "ff2352d5-1b7d-403a-9fef-a4b7981220f7",
   "metadata": {},
   "source": [
    "* All features independently evaluated against wine quality\n",
    "* alpha =.05 for all statistics ran\n",
    "* For categorical features 'T-tests' were used\n"
   ]
  },
  {
   "cell_type": "code",
   "execution_count": 6,
   "id": "67a35e55-544f-4808-bf3a-70886470a9ce",
   "metadata": {},
   "outputs": [],
   "source": [
    "# viualization distribution of target \n"
   ]
  },
  {
   "cell_type": "markdown",
   "id": "f4410da8-55bc-4b3f-bad7-04b1188e60e3",
   "metadata": {},
   "source": [
    "### 1. QUESTION?"
   ]
  },
  {
   "cell_type": "code",
   "execution_count": 5,
   "id": "d96f2084-f1df-49cd-940e-b39912484a55",
   "metadata": {},
   "outputs": [],
   "source": [
    "# Get visualizaions\n"
   ]
  },
  {
   "cell_type": "markdown",
   "id": "adf54ddb-4e56-4261-ae34-edf219e68783",
   "metadata": {
    "tags": []
   },
   "source": [
    "#### Charting Observations: 'FILL'\n",
    "* "
   ]
  },
  {
   "cell_type": "markdown",
   "id": "0895d051-3818-49a2-b7ee-07a5034004da",
   "metadata": {},
   "source": [
    "####  Statistics: 'FILL'\n"
   ]
  },
  {
   "cell_type": "markdown",
   "id": "beb16610-d2de-4c59-9abb-73b6a1deae37",
   "metadata": {},
   "source": [
    "##### Hypothisis: 'FILL'\n",
    "$H_0$ : 'FILL' is independent of 'FILL'<br>\n",
    "$H_a$ : 'FILL' is not independent of 'FILL'"
   ]
  },
  {
   "cell_type": "code",
   "execution_count": 7,
   "id": "dd905e8c-e66d-4c3f-b6e0-54369635cc04",
   "metadata": {},
   "outputs": [],
   "source": [
    "# Running stat test\n"
   ]
  },
  {
   "cell_type": "markdown",
   "id": "af9f6edf-f09c-4a95-8199-5d0649f54a35",
   "metadata": {},
   "source": [
    "#### Result\n",
    "* Based on the result of our test, we can infer that "
   ]
  },
  {
   "cell_type": "markdown",
   "id": "32f2fd68-bee8-443b-bd6a-3e086245332f",
   "metadata": {},
   "source": [
    "### 2. QUESTION?"
   ]
  },
  {
   "cell_type": "code",
   "execution_count": 1,
   "id": "4499b706-c3fb-42bd-81a0-2574b1c0ffc6",
   "metadata": {},
   "outputs": [],
   "source": [
    "# Get visualizaions\n"
   ]
  },
  {
   "cell_type": "markdown",
   "id": "e34ea7b4-665e-4122-a668-291e48a928ca",
   "metadata": {
    "tags": []
   },
   "source": [
    "#### Charting Observations: 'FILL'\n",
    "\n",
    "* Higher fluctuation or spread of volatile acidity results in a lower wine quality grade.\n",
    "* Conversely, lower fluctuation or spread of volatile acidity results in a higher wine quality grade."
   ]
  },
  {
   "cell_type": "markdown",
   "id": "a8addbd1-4bd7-4e8d-a31f-ef85d85ff665",
   "metadata": {},
   "source": [
    "#### Result\n",
    "* Based on the results of our test, we can infer that "
   ]
  },
  {
   "cell_type": "markdown",
   "id": "64726d7d-8fff-4083-8411-b0f6f7f5ce43",
   "metadata": {},
   "source": [
    "### 3. QUESTION?"
   ]
  },
  {
   "cell_type": "code",
   "execution_count": 2,
   "id": "b3834665-74fb-41fc-aa4e-b02921d651d6",
   "metadata": {},
   "outputs": [],
   "source": [
    "# Get visualizaions\n"
   ]
  },
  {
   "cell_type": "markdown",
   "id": "ea54d254-8b85-41b4-9335-fcdc076cb996",
   "metadata": {
    "tags": []
   },
   "source": [
    "#### Charting Observations: 'FILL'\n",
    "* There is a "
   ]
  },
  {
   "cell_type": "markdown",
   "id": "9390f3f9-df5e-4f7c-a040-5ba798c69f74",
   "metadata": {},
   "source": [
    "#### Result\n",
    "* Based on the observation in the chart and the supporting evidence "
   ]
  },
  {
   "cell_type": "markdown",
   "id": "cfa04963-0b3f-4ba3-8e3f-84c0fc4717f9",
   "metadata": {
    "tags": []
   },
   "source": [
    "### 4. QUESTION?"
   ]
  },
  {
   "cell_type": "code",
   "execution_count": 3,
   "id": "7e76c1fa-4395-469e-a6fe-f538f1902fad",
   "metadata": {},
   "outputs": [],
   "source": [
    "# Get visualizaions\n"
   ]
  },
  {
   "cell_type": "markdown",
   "id": "38644e18-2e7d-4daf-941a-0d3e74185812",
   "metadata": {},
   "source": [
    "#### Chart Observations: 'FILL'\n",
    "* "
   ]
  },
  {
   "cell_type": "markdown",
   "id": "b57943d2-3edd-46de-8a43-b85c9ffb0c0d",
   "metadata": {},
   "source": [
    "#### Result\n",
    "* Based on our test result, we can infer "
   ]
  },
  {
   "cell_type": "markdown",
   "id": "e95ea16b-f063-4d09-80d5-018cc9822645",
   "metadata": {},
   "source": [
    "#### Charting Observations: `FILL`\n",
    "* no clearly observable/useful clusters"
   ]
  },
  {
   "cell_type": "markdown",
   "id": "593736ce-4878-4340-b518-c74002fff7df",
   "metadata": {},
   "source": [
    "## Exploration Summary\n",
    "* "
   ]
  },
  {
   "cell_type": "markdown",
   "id": "5400eb4b-252e-42b1-b6a6-13ae4cdd699c",
   "metadata": {},
   "source": [
    "### Features we are moving to modeling with\n",
    "* \n",
    "* **'FILL': is our target variable**"
   ]
  },
  {
   "cell_type": "markdown",
   "id": "b758e296-9a83-4fbb-bb25-a94e54ce332c",
   "metadata": {},
   "source": [
    "### Features not moving to modeling \n"
   ]
  },
  {
   "cell_type": "markdown",
   "id": "1dd3b326-7610-43c9-9807-bb4ef42a36a5",
   "metadata": {},
   "source": [
    "## Modeling"
   ]
  },
  {
   "cell_type": "markdown",
   "id": "2db4285f-451a-4b5c-9482-e97f60e3c303",
   "metadata": {},
   "source": [
    "### Introduction\n",
    "* Primary evaluation metric will be **Accuracy**\n",
    "    * There is no greater value in false positives or false negatives\n"
   ]
  },
  {
   "cell_type": "markdown",
   "id": "28c6e133-7253-48d5-98fd-1fb2a530ae70",
   "metadata": {},
   "source": [
    "#### Baseline "
   ]
  },
  {
   "cell_type": "code",
   "execution_count": 20,
   "id": "3d2fd75b-5d4c-4b17-be31-60471ffd1f01",
   "metadata": {},
   "outputs": [
    {
     "data": {
      "text/html": [
       "<div>\n",
       "<style scoped>\n",
       "    .dataframe tbody tr th:only-of-type {\n",
       "        vertical-align: middle;\n",
       "    }\n",
       "\n",
       "    .dataframe tbody tr th {\n",
       "        vertical-align: top;\n",
       "    }\n",
       "\n",
       "    .dataframe thead th {\n",
       "        text-align: right;\n",
       "    }\n",
       "</style>\n",
       "<table border=\"1\" class=\"dataframe\">\n",
       "  <thead>\n",
       "    <tr style=\"text-align: right;\">\n",
       "      <th></th>\n",
       "      <th>Baseline</th>\n",
       "      <th>Metric</th>\n",
       "      <th>Score</th>\n",
       "    </tr>\n",
       "  </thead>\n",
       "  <tbody>\n",
       "    <tr>\n",
       "      <th>0</th>\n",
       "      <td>6.0</td>\n",
       "      <td>Accuracy</td>\n",
       "      <td>0.439569</td>\n",
       "    </tr>\n",
       "  </tbody>\n",
       "</table>\n",
       "</div>"
      ],
      "text/plain": [
       "   Baseline    Metric     Score\n",
       "0       6.0  Accuracy  0.439569"
      ]
     },
     "execution_count": 20,
     "metadata": {},
     "output_type": "execute_result"
    }
   ],
   "source": [
    "# get baseline \n"
   ]
  },
  {
   "cell_type": "code",
   "execution_count": 22,
   "id": "246e276c-6661-4c1f-8042-4a6aa3dd5a03",
   "metadata": {},
   "outputs": [
    {
     "data": {
      "text/html": [
       "<div>\n",
       "<style scoped>\n",
       "    .dataframe tbody tr th:only-of-type {\n",
       "        vertical-align: middle;\n",
       "    }\n",
       "\n",
       "    .dataframe tbody tr th {\n",
       "        vertical-align: top;\n",
       "    }\n",
       "\n",
       "    .dataframe thead th {\n",
       "        text-align: right;\n",
       "    }\n",
       "</style>\n",
       "<table border=\"1\" class=\"dataframe\">\n",
       "  <thead>\n",
       "    <tr style=\"text-align: right;\">\n",
       "      <th></th>\n",
       "      <th>model</th>\n",
       "      <th>set</th>\n",
       "      <th>accuracy</th>\n",
       "    </tr>\n",
       "  </thead>\n",
       "  <tbody>\n",
       "    <tr>\n",
       "      <th>0</th>\n",
       "      <td>k_nearest_neighbors</td>\n",
       "      <td>train</td>\n",
       "      <td>0.549397</td>\n",
       "    </tr>\n",
       "    <tr>\n",
       "      <th>1</th>\n",
       "      <td>logistic_regression</td>\n",
       "      <td>train</td>\n",
       "      <td>0.544778</td>\n",
       "    </tr>\n",
       "    <tr>\n",
       "      <th>2</th>\n",
       "      <td>DecisionTreeClassifier</td>\n",
       "      <td>train</td>\n",
       "      <td>0.539902</td>\n",
       "    </tr>\n",
       "    <tr>\n",
       "      <th>3</th>\n",
       "      <td>random_forest</td>\n",
       "      <td>train</td>\n",
       "      <td>0.545548</td>\n",
       "    </tr>\n",
       "  </tbody>\n",
       "</table>\n",
       "</div>"
      ],
      "text/plain": [
       "                    model    set  accuracy\n",
       "0     k_nearest_neighbors  train  0.549397\n",
       "1     logistic_regression  train  0.544778\n",
       "2  DecisionTreeClassifier  train  0.539902\n",
       "3           random_forest  train  0.545548"
      ]
     },
     "execution_count": 22,
     "metadata": {},
     "output_type": "execute_result"
    }
   ],
   "source": [
    "# running models on cluster set\n",
    "functions.cluster_model(new_train,y_train)"
   ]
  },
  {
   "cell_type": "markdown",
   "id": "b61a3bef-668e-4f41-a397-2ce21a8f353a",
   "metadata": {},
   "source": [
    "### Model Selection\n",
    "* All Models have very similar results\n",
    "    * All out performed the baseline accuracy of 'FILL'\n",
    "    * 'FILL'gave the best results on the train and validate sets\n",
    "* We will use the **'FILL'** model for the unseen Test data"
   ]
  },
  {
   "cell_type": "markdown",
   "id": "75dfba30-68c8-4f7f-a8ce-2c2cda2d4841",
   "metadata": {},
   "source": [
    "### Test Model: 'FILL'\n"
   ]
  },
  {
   "cell_type": "code",
   "execution_count": 23,
   "id": "695c657d-97dc-4bb2-ac98-369e3b1ce29b",
   "metadata": {},
   "outputs": [
    {
     "data": {
      "text/plain": [
       "114    5\n",
       "Name: quality, dtype: int64"
      ]
     },
     "execution_count": 23,
     "metadata": {},
     "output_type": "execute_result"
    }
   ],
   "source": [
    "y_train.sample()"
   ]
  },
  {
   "cell_type": "code",
   "execution_count": 4,
   "id": "ac217979-b3c3-4de4-a8e3-60623ed47401",
   "metadata": {},
   "outputs": [],
   "source": [
    "# running 'FILL'  on test set\n"
   ]
  },
  {
   "cell_type": "markdown",
   "id": "a8278fe0-2e9a-4dc3-96a8-5d012f8649d6",
   "metadata": {},
   "source": [
    "### Modeling Wrap \n",
    "* On the test set, the model returned an 'FILL' score of 'FILL'\n",
    "    * 'FILL' the baseline \n",
    "    * Also outperformed the models training and validation runs\n",
    "* We can reasonably presume that the model will perform consistantly in the same range\n",
    "* This model **'FILL'** be used in production"
   ]
  },
  {
   "cell_type": "markdown",
   "id": "2e9ef6dd-7a7e-40e8-90e3-52fbb6246213",
   "metadata": {},
   "source": [
    "## Conclusion\n",
    "\n",
    "### Summary\n",
    "* The four features we evaluated closely: \n",
    "* Only \n",
    "* \n",
    "* Our best model was 'FILL' \n",
    "    \n",
    "### Recommendations\n",
    "* The model provided can be used to 'FILL'\n",
    "\n",
    "### Next Steps\n",
    "* If provided more time to work on the project we would want to explore 'FILL'"
   ]
  },
  {
   "cell_type": "code",
   "execution_count": null,
   "id": "411ae7a4-00b8-4623-a1e1-ddc644197a30",
   "metadata": {},
   "outputs": [],
   "source": []
  }
 ],
 "metadata": {
  "kernelspec": {
   "display_name": "Python 3 (ipykernel)",
   "language": "python",
   "name": "python3"
  },
  "language_info": {
   "codemirror_mode": {
    "name": "ipython",
    "version": 3
   },
   "file_extension": ".py",
   "mimetype": "text/x-python",
   "name": "python",
   "nbconvert_exporter": "python",
   "pygments_lexer": "ipython3",
   "version": "3.9.13"
  },
  "toc-autonumbering": false
 },
 "nbformat": 4,
 "nbformat_minor": 5
}
