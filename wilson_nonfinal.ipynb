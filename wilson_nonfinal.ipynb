{
 "cells": [
  {
   "cell_type": "code",
   "execution_count": 1,
   "id": "26d79e0e",
   "metadata": {},
   "outputs": [],
   "source": [
    "import pandas as pd\n",
    "import numpy as np\n",
    "\n",
    "import acquire_w\n",
    "\n",
    "import requests\n",
    "from bs4 import BeautifulSoup"
   ]
  },
  {
   "cell_type": "code",
   "execution_count": 2,
   "id": "8ddc1182",
   "metadata": {},
   "outputs": [],
   "source": [
    "#import NLP transformers \n",
    "from sklearn.feature_extraction.text import CountVectorizer\n",
    "from sklearn.feature_extraction.text import TfidfVectorizer\n",
    "\n",
    "#import classification models\n",
    "from sklearn.tree import DecisionTreeClassifier\n",
    "from sklearn.ensemble import RandomForestClassifier\n",
    "from sklearn.naive_bayes import MultinomialNB"
   ]
  },
  {
   "cell_type": "code",
   "execution_count": 3,
   "id": "6fc8c116",
   "metadata": {},
   "outputs": [],
   "source": [
    "# data = acquire_w.scrape_github_data()"
   ]
  },
  {
   "cell_type": "code",
   "execution_count": 4,
   "id": "26c9a634",
   "metadata": {},
   "outputs": [],
   "source": [
    "# pd.DataFrame(data)"
   ]
  },
  {
   "cell_type": "code",
   "execution_count": 5,
   "id": "0105fc55",
   "metadata": {},
   "outputs": [],
   "source": [
    "# pd.DataFrame(data).to_csv('github.csv')"
   ]
  },
  {
   "cell_type": "code",
   "execution_count": 6,
   "id": "203926c6",
   "metadata": {},
   "outputs": [],
   "source": [
    "data = pd.read_csv('github.csv', index_col=0)"
   ]
  },
  {
   "cell_type": "code",
   "execution_count": 7,
   "id": "aea12e13",
   "metadata": {
    "scrolled": true
   },
   "outputs": [
    {
     "name": "stdout",
     "output_type": "stream",
     "text": [
      "<class 'pandas.core.frame.DataFrame'>\n",
      "Int64Index: 846 entries, 0 to 845\n",
      "Data columns (total 3 columns):\n",
      " #   Column           Non-Null Count  Dtype \n",
      "---  ------           --------------  ----- \n",
      " 0   repo             846 non-null    object\n",
      " 1   language         752 non-null    object\n",
      " 2   readme_contents  846 non-null    object\n",
      "dtypes: object(3)\n",
      "memory usage: 26.4+ KB\n"
     ]
    }
   ],
   "source": [
    "data.info()"
   ]
  },
  {
   "cell_type": "code",
   "execution_count": 8,
   "id": "6c2984e1",
   "metadata": {},
   "outputs": [
    {
     "data": {
      "text/plain": [
       "C#                   107\n",
       "TypeScript            91\n",
       "Python                83\n",
       "Go                    82\n",
       "PowerShell            62\n",
       "JavaScript            42\n",
       "Bicep                 42\n",
       "HCL                   37\n",
       "Shell                 36\n",
       "Java                  30\n",
       "C                     30\n",
       "Jupyter Notebook      22\n",
       "HTML                  14\n",
       "Ruby                  11\n",
       "C++                    7\n",
       "Rust                   6\n",
       "PHP                    6\n",
       "Dockerfile             5\n",
       "BitBake                4\n",
       "Swift                  4\n",
       "CSS                    3\n",
       "Scala                  3\n",
       "Objective-C            3\n",
       "Rich Text Format       3\n",
       "CMake                  2\n",
       "Open Policy Agent      2\n",
       "R                      2\n",
       "TSQL                   2\n",
       "Batchfile              2\n",
       "Perl                   1\n",
       "Pug                    1\n",
       "CoffeeScript           1\n",
       "Kotlin                 1\n",
       "SCSS                   1\n",
       "Mathematica            1\n",
       "Mustache               1\n",
       "Jinja                  1\n",
       "XSLT                   1\n",
       "Name: language, dtype: int64"
      ]
     },
     "execution_count": 8,
     "metadata": {},
     "output_type": "execute_result"
    }
   ],
   "source": [
    "data.language.value_counts()"
   ]
  },
  {
   "cell_type": "code",
   "execution_count": 9,
   "id": "f1d1425b",
   "metadata": {},
   "outputs": [],
   "source": [
    "l = ['C#', 'PowerShell', 'Go', 'TypeScript', 'Python', 'JavaScript']\n",
    "\n",
    "data.language = np.where(data.language.isin(l), data.language, np.nan)"
   ]
  },
  {
   "cell_type": "code",
   "execution_count": 10,
   "id": "8727ad25",
   "metadata": {},
   "outputs": [],
   "source": [
    "data = data.dropna()"
   ]
  },
  {
   "cell_type": "code",
   "execution_count": 11,
   "id": "13a082de",
   "metadata": {},
   "outputs": [
    {
     "data": {
      "text/plain": [
       "C#            107\n",
       "TypeScript     91\n",
       "Python         83\n",
       "Go             82\n",
       "PowerShell     62\n",
       "JavaScript     42\n",
       "Name: language, dtype: int64"
      ]
     },
     "execution_count": 11,
     "metadata": {},
     "output_type": "execute_result"
    }
   ],
   "source": [
    "data.language.value_counts()"
   ]
  },
  {
   "cell_type": "code",
   "execution_count": 12,
   "id": "a67117e1",
   "metadata": {},
   "outputs": [],
   "source": [
    "import wrangle"
   ]
  },
  {
   "cell_type": "code",
   "execution_count": 13,
   "id": "dea8fbdf",
   "metadata": {},
   "outputs": [],
   "source": [
    "data.readme_contents = data.readme_contents.apply(wrangle.basic_clean)\\\n",
    ".apply(wrangle.tokenize)\\\n",
    ".apply(wrangle.lemmatize)\\\n",
    ".apply(wrangle.remove_stopwords, extra_words=['azure','http','com','microsoft','github','service','resource','function','project','doc'])\n"
   ]
  },
  {
   "cell_type": "code",
   "execution_count": 14,
   "id": "2105d2c5",
   "metadata": {},
   "outputs": [],
   "source": [
    "master_list = ['function', 'service', '1', 'sample', 'nuget', 'net', 'sdk', 'doc', 'extension', 'use', 'project ', 'template', 'code', 'using', 'build', 'file', 'md', 'dotnet', 'u', 'package', 'go', 'g', 'resource', 'name', 'version', 'cla', '0', 'run', 'io', 'ak', 'id', 'powershell', 'doc', 'project', 'issue', 'en', 'repository', 'deployment', 'subscription', 'cloud', 'script', 'action', 'app', 'function', 'container', 'deploy', 'create',  'cli', 'python', 'data', 'client', '9', 'node', 'extension', 'model', 'command', '2', 'node', 'action', 'install', 'npm', 'workflow', 'j', 'api']"
   ]
  },
  {
   "cell_type": "code",
   "execution_count": 15,
   "id": "574e1b1f",
   "metadata": {},
   "outputs": [
    {
     "data": {
      "text/html": [
       "<div>\n",
       "<style scoped>\n",
       "    .dataframe tbody tr th:only-of-type {\n",
       "        vertical-align: middle;\n",
       "    }\n",
       "\n",
       "    .dataframe tbody tr th {\n",
       "        vertical-align: top;\n",
       "    }\n",
       "\n",
       "    .dataframe thead th {\n",
       "        text-align: right;\n",
       "    }\n",
       "</style>\n",
       "<table border=\"1\" class=\"dataframe\">\n",
       "  <thead>\n",
       "    <tr style=\"text-align: right;\">\n",
       "      <th></th>\n",
       "      <th>repo</th>\n",
       "      <th>language</th>\n",
       "      <th>readme_contents</th>\n",
       "    </tr>\n",
       "  </thead>\n",
       "  <tbody>\n",
       "    <tr>\n",
       "      <th>1</th>\n",
       "      <td>Azure/azure-docs-sdk-dotnet</td>\n",
       "      <td>Python</td>\n",
       "      <td>documentation net sdk apis overview repository...</td>\n",
       "    </tr>\n",
       "    <tr>\n",
       "      <th>3</th>\n",
       "      <td>Azure/AgentBaker</td>\n",
       "      <td>Go</td>\n",
       "      <td>agentbaker coverage status coverall io repos a...</td>\n",
       "    </tr>\n",
       "    <tr>\n",
       "      <th>6</th>\n",
       "      <td>Azure/communication-ui-library</td>\n",
       "      <td>TypeScript</td>\n",
       "      <td>ui library banner image png image ui library b...</td>\n",
       "    </tr>\n",
       "    <tr>\n",
       "      <th>7</th>\n",
       "      <td>Azure/azure-linux-extensions</td>\n",
       "      <td>Python</td>\n",
       "      <td>linux extension iaa provides source code linux...</td>\n",
       "    </tr>\n",
       "    <tr>\n",
       "      <th>8</th>\n",
       "      <td>Azure/azureml-assets</td>\n",
       "      <td>Python</td>\n",
       "      <td>preview feature contained repository private p...</td>\n",
       "    </tr>\n",
       "  </tbody>\n",
       "</table>\n",
       "</div>"
      ],
      "text/plain": [
       "                             repo    language  \\\n",
       "1     Azure/azure-docs-sdk-dotnet      Python   \n",
       "3                Azure/AgentBaker          Go   \n",
       "6  Azure/communication-ui-library  TypeScript   \n",
       "7    Azure/azure-linux-extensions      Python   \n",
       "8            Azure/azureml-assets      Python   \n",
       "\n",
       "                                     readme_contents  \n",
       "1  documentation net sdk apis overview repository...  \n",
       "3  agentbaker coverage status coverall io repos a...  \n",
       "6  ui library banner image png image ui library b...  \n",
       "7  linux extension iaa provides source code linux...  \n",
       "8  preview feature contained repository private p...  "
      ]
     },
     "execution_count": 15,
     "metadata": {},
     "output_type": "execute_result"
    }
   ],
   "source": [
    "data.head()"
   ]
  },
  {
   "cell_type": "code",
   "execution_count": 16,
   "id": "f12c2d0f",
   "metadata": {},
   "outputs": [],
   "source": [
    "def filter_words(text):\n",
    "    return ' '.join([word for word in text.split() if word in master_list])"
   ]
  },
  {
   "cell_type": "code",
   "execution_count": 17,
   "id": "1d017f9b",
   "metadata": {},
   "outputs": [],
   "source": [
    "data['readme_contents'] = data['readme_contents'].apply(lambda x: filter_words(x))"
   ]
  },
  {
   "cell_type": "code",
   "execution_count": 18,
   "id": "da23afdf",
   "metadata": {},
   "outputs": [
    {
     "data": {
      "text/html": [
       "<div>\n",
       "<style scoped>\n",
       "    .dataframe tbody tr th:only-of-type {\n",
       "        vertical-align: middle;\n",
       "    }\n",
       "\n",
       "    .dataframe tbody tr th {\n",
       "        vertical-align: top;\n",
       "    }\n",
       "\n",
       "    .dataframe thead th {\n",
       "        text-align: right;\n",
       "    }\n",
       "</style>\n",
       "<table border=\"1\" class=\"dataframe\">\n",
       "  <thead>\n",
       "    <tr style=\"text-align: right;\">\n",
       "      <th></th>\n",
       "      <th>repo</th>\n",
       "      <th>language</th>\n",
       "      <th>readme_contents</th>\n",
       "    </tr>\n",
       "  </thead>\n",
       "  <tbody>\n",
       "    <tr>\n",
       "      <th>1</th>\n",
       "      <td>Azure/azure-docs-sdk-dotnet</td>\n",
       "      <td>Python</td>\n",
       "      <td>net sdk repository net sdk api dotnet api dotn...</td>\n",
       "    </tr>\n",
       "    <tr>\n",
       "      <th>3</th>\n",
       "      <td>Azure/AgentBaker</td>\n",
       "      <td>Go</td>\n",
       "      <td>io io node template script build template api ...</td>\n",
       "    </tr>\n",
       "    <tr>\n",
       "      <th>6</th>\n",
       "      <td>Azure/communication-ui-library</td>\n",
       "      <td>TypeScript</td>\n",
       "      <td>io npm version io j package io io build workfl...</td>\n",
       "    </tr>\n",
       "    <tr>\n",
       "      <th>7</th>\n",
       "      <td>Azure/azure-linux-extensions</td>\n",
       "      <td>Python</td>\n",
       "      <td>extension code extension extension extension e...</td>\n",
       "    </tr>\n",
       "    <tr>\n",
       "      <th>8</th>\n",
       "      <td>Azure/azureml-assets</td>\n",
       "      <td>Python</td>\n",
       "      <td>repository version use en u en u en u use en u...</td>\n",
       "    </tr>\n",
       "  </tbody>\n",
       "</table>\n",
       "</div>"
      ],
      "text/plain": [
       "                             repo    language  \\\n",
       "1     Azure/azure-docs-sdk-dotnet      Python   \n",
       "3                Azure/AgentBaker          Go   \n",
       "6  Azure/communication-ui-library  TypeScript   \n",
       "7    Azure/azure-linux-extensions      Python   \n",
       "8            Azure/azureml-assets      Python   \n",
       "\n",
       "                                     readme_contents  \n",
       "1  net sdk repository net sdk api dotnet api dotn...  \n",
       "3  io io node template script build template api ...  \n",
       "6  io npm version io j package io io build workfl...  \n",
       "7  extension code extension extension extension e...  \n",
       "8  repository version use en u en u en u use en u...  "
      ]
     },
     "execution_count": 18,
     "metadata": {},
     "output_type": "execute_result"
    }
   ],
   "source": [
    "data.head()"
   ]
  },
  {
   "cell_type": "markdown",
   "id": "36be258f",
   "metadata": {},
   "source": [
    "- handled nulls\n",
    "- converted things to Other"
   ]
  },
  {
   "cell_type": "code",
   "execution_count": 19,
   "id": "9f8255fc",
   "metadata": {},
   "outputs": [
    {
     "name": "stdout",
     "output_type": "stream",
     "text": [
      "train -> (261, 3), 55.89%\n",
      "validate -> (112, 3),23.98%\n",
      "test -> (94, 3), 20.13%\n"
     ]
    }
   ],
   "source": [
    "train, validate, test = wrangle.split_data(data, 'language')"
   ]
  },
  {
   "cell_type": "code",
   "execution_count": 20,
   "id": "9ae0507f",
   "metadata": {
    "scrolled": true
   },
   "outputs": [
    {
     "data": {
      "text/plain": [
       "C#            59\n",
       "TypeScript    51\n",
       "Go            46\n",
       "Python        46\n",
       "PowerShell    35\n",
       "JavaScript    24\n",
       "Name: language, dtype: int64"
      ]
     },
     "execution_count": 20,
     "metadata": {},
     "output_type": "execute_result"
    }
   ],
   "source": [
    "train.language.value_counts()"
   ]
  },
  {
   "cell_type": "code",
   "execution_count": 21,
   "id": "d656dc07",
   "metadata": {},
   "outputs": [],
   "source": [
    "c_words = ' '.join(train[train.language == 'C#'].readme_contents)\n",
    "go_words = ' '.join(train[train.language == 'Go'].readme_contents)\n",
    "powershell_words = ' '.join(train[train.language == 'PowerShell'].readme_contents)\n",
    "typescript_words = ' '.join(train[train.language == 'TypeScript'].readme_contents)\n",
    "python_words = ' '.join(train[train.language == 'Python'].readme_contents)\n",
    "javascript_words = ' '.join(train[train.language == 'JavaScript'].readme_contents)"
   ]
  },
  {
   "cell_type": "code",
   "execution_count": 23,
   "id": "156f154a",
   "metadata": {},
   "outputs": [
    {
     "data": {
      "text/plain": [
       "node            184\n",
       "u               164\n",
       "en              160\n",
       "action          148\n",
       "app             148\n",
       "name            135\n",
       "install         116\n",
       "npm             108\n",
       "use              92\n",
       "workflow         87\n",
       "code             82\n",
       "file             80\n",
       "sdk              79\n",
       "package          79\n",
       "j                78\n",
       "using            74\n",
       "subscription     66\n",
       "sample           65\n",
       "api              63\n",
       "cli              58\n",
       "dtype: int64"
      ]
     },
     "execution_count": 23,
     "metadata": {},
     "output_type": "execute_result"
    }
   ],
   "source": [
    "pd.Series(c_words.split()).value_counts().head(20)\n",
    "pd.Series(go_words.split()).value_counts().head(20)\n",
    "pd.Series(powershell_words.split()).value_counts().head(20)\n",
    "pd.Series(typescript_words.split()).value_counts().head(20)\n",
    "pd.Series(python_words.split()).value_counts().head(20)\n",
    "pd.Series(javascript_words.split()).value_counts().head(20)"
   ]
  },
  {
   "cell_type": "code",
   "execution_count": 24,
   "id": "bc2352f6",
   "metadata": {},
   "outputs": [],
   "source": [
    "import matplotlib.pyplot as plt"
   ]
  },
  {
   "cell_type": "code",
   "execution_count": 25,
   "id": "db18a92b",
   "metadata": {},
   "outputs": [
    {
     "data": {
      "image/png": "[encoded data removed]",
      "text/plain": [
       "<Figure size 1500x2000 with 6 Axes>"
      ]
     },
     "metadata": {},
     "output_type": "display_data"
    }
   ],
   "source": [
    "plt.figure(figsize=(15,20))\n",
    "\n",
    "plt.subplot(321)\n",
    "pd.Series(powershell_words.split()).value_counts().head(20).plot.barh(color='pink', width=.9)\n",
    "plt.title('PowerShell')\n",
    "plt.ylabel('Word')\n",
    "plt.xlabel('Num Occurrences')\n",
    "\n",
    "plt.subplot(322)\n",
    "pd.Series(c_words.split()).value_counts().head(20).plot.barh(color='pink', width=.9)\n",
    "plt.title('C#')\n",
    "plt.ylabel('Word')\n",
    "plt.xlabel('Num Occurrences')\n",
    "\n",
    "plt.subplot(323)\n",
    "pd.Series(typescript_words.split()).value_counts().head(20).plot.barh(color='pink', width=.9)\n",
    "plt.title('TypeScript')\n",
    "plt.ylabel('Word')\n",
    "plt.xlabel('Num Occurrences')\n",
    "\n",
    "plt.subplot(324)\n",
    "pd.Series(go_words.split()).value_counts().head(20).plot.barh(color='pink', width=.9)\n",
    "plt.title('Go')\n",
    "plt.ylabel('Word')\n",
    "plt.xlabel('Num Occurrences')\n",
    "\n",
    "plt.subplot(325)\n",
    "pd.Series(python_words.split()).value_counts().head(20).plot.barh(color='pink', width=.9)\n",
    "plt.title('Python')\n",
    "plt.ylabel('Word')\n",
    "plt.xlabel('Num Occurrences')\n",
    "\n",
    "plt.subplot(326)\n",
    "pd.Series(javascript_words.split()).value_counts().head(20).plot.barh(color='pink', width=.9)\n",
    "plt.title('JavaScript')\n",
    "plt.ylabel('Word')\n",
    "plt.xlabel('Num Occurrences')\n",
    "# make the labels pretty\n",
    "# ticks, _ = plt.yticks()\n",
    "# labels = top_20_lem_bigrams.reset_index()[‘index’].apply(lambda t: t[0] + ' ' + t[1])\n",
    "# _ = plt.yticks(ticks, labels)\n",
    "\n",
    "plt.tight_layout()\n",
    "plt.show()"
   ]
  },
  {
   "cell_type": "code",
   "execution_count": 26,
   "id": "adf1843f",
   "metadata": {},
   "outputs": [],
   "source": [
    "# features = ['readme_contents']\n",
    "\n",
    "X_train = train.readme_contents\n",
    "y_train = train.language\n",
    "X_validate = validate.readme_contents\n",
    "y_validate = validate.language\n",
    "X_test = test.readme_contents\n",
    "y_test = test.language"
   ]
  },
  {
   "cell_type": "code",
   "execution_count": 27,
   "id": "8e402639",
   "metadata": {},
   "outputs": [
    {
     "data": {
      "text/plain": [
       "456    data container sample sample data container ve...\n",
       "329    cloud build 1 2 1 2 io code run use issue en u...\n",
       "61     ak ak action workflow ak action workflow io ak...\n",
       "55     2 0 powershell 2 0 powershell 2 0 powershell p...\n",
       "714    action action workflow deploy en run file file...\n",
       "Name: readme_contents, dtype: object"
      ]
     },
     "execution_count": 27,
     "metadata": {},
     "output_type": "execute_result"
    }
   ],
   "source": [
    "X_train.head()"
   ]
  },
  {
   "cell_type": "markdown",
   "id": "8ada8112",
   "metadata": {},
   "source": [
    "### Iteration 1: Count and Decision"
   ]
  },
  {
   "cell_type": "code",
   "execution_count": 28,
   "id": "5cc9da57",
   "metadata": {},
   "outputs": [],
   "source": [
    "#get two words at once!\n",
    "cv = CountVectorizer()\n",
    "\n",
    "X_train_bow = cv.fit_transform(X_train)\n",
    "X_validate_bow = cv.transform(X_validate)"
   ]
  },
  {
   "cell_type": "code",
   "execution_count": 29,
   "id": "7f997ace",
   "metadata": {},
   "outputs": [],
   "source": [
    "df = pd.DataFrame(X_train_bow.todense(), columns=cv.get_feature_names_out())"
   ]
  },
  {
   "cell_type": "code",
   "execution_count": 30,
   "id": "55273bd5",
   "metadata": {},
   "outputs": [
    {
     "data": {
      "text/html": [
       "<div>\n",
       "<style scoped>\n",
       "    .dataframe tbody tr th:only-of-type {\n",
       "        vertical-align: middle;\n",
       "    }\n",
       "\n",
       "    .dataframe tbody tr th {\n",
       "        vertical-align: top;\n",
       "    }\n",
       "\n",
       "    .dataframe thead th {\n",
       "        text-align: right;\n",
       "    }\n",
       "</style>\n",
       "<table border=\"1\" class=\"dataframe\">\n",
       "  <thead>\n",
       "    <tr style=\"text-align: right;\">\n",
       "      <th></th>\n",
       "      <th>action</th>\n",
       "      <th>ak</th>\n",
       "      <th>api</th>\n",
       "      <th>app</th>\n",
       "      <th>build</th>\n",
       "      <th>cla</th>\n",
       "      <th>cli</th>\n",
       "      <th>client</th>\n",
       "      <th>cloud</th>\n",
       "      <th>code</th>\n",
       "      <th>...</th>\n",
       "      <th>run</th>\n",
       "      <th>sample</th>\n",
       "      <th>script</th>\n",
       "      <th>sdk</th>\n",
       "      <th>subscription</th>\n",
       "      <th>template</th>\n",
       "      <th>use</th>\n",
       "      <th>using</th>\n",
       "      <th>version</th>\n",
       "      <th>workflow</th>\n",
       "    </tr>\n",
       "  </thead>\n",
       "  <tbody>\n",
       "    <tr>\n",
       "      <th>0</th>\n",
       "      <td>0</td>\n",
       "      <td>0</td>\n",
       "      <td>0</td>\n",
       "      <td>0</td>\n",
       "      <td>2</td>\n",
       "      <td>5</td>\n",
       "      <td>0</td>\n",
       "      <td>0</td>\n",
       "      <td>0</td>\n",
       "      <td>2</td>\n",
       "      <td>...</td>\n",
       "      <td>2</td>\n",
       "      <td>2</td>\n",
       "      <td>0</td>\n",
       "      <td>0</td>\n",
       "      <td>0</td>\n",
       "      <td>0</td>\n",
       "      <td>1</td>\n",
       "      <td>1</td>\n",
       "      <td>1</td>\n",
       "      <td>0</td>\n",
       "    </tr>\n",
       "    <tr>\n",
       "      <th>1</th>\n",
       "      <td>0</td>\n",
       "      <td>0</td>\n",
       "      <td>0</td>\n",
       "      <td>0</td>\n",
       "      <td>1</td>\n",
       "      <td>5</td>\n",
       "      <td>0</td>\n",
       "      <td>0</td>\n",
       "      <td>3</td>\n",
       "      <td>3</td>\n",
       "      <td>...</td>\n",
       "      <td>1</td>\n",
       "      <td>0</td>\n",
       "      <td>0</td>\n",
       "      <td>0</td>\n",
       "      <td>0</td>\n",
       "      <td>0</td>\n",
       "      <td>2</td>\n",
       "      <td>1</td>\n",
       "      <td>1</td>\n",
       "      <td>0</td>\n",
       "    </tr>\n",
       "    <tr>\n",
       "      <th>2</th>\n",
       "      <td>2</td>\n",
       "      <td>6</td>\n",
       "      <td>1</td>\n",
       "      <td>0</td>\n",
       "      <td>0</td>\n",
       "      <td>0</td>\n",
       "      <td>0</td>\n",
       "      <td>4</td>\n",
       "      <td>3</td>\n",
       "      <td>0</td>\n",
       "      <td>...</td>\n",
       "      <td>2</td>\n",
       "      <td>0</td>\n",
       "      <td>1</td>\n",
       "      <td>0</td>\n",
       "      <td>1</td>\n",
       "      <td>0</td>\n",
       "      <td>1</td>\n",
       "      <td>0</td>\n",
       "      <td>0</td>\n",
       "      <td>2</td>\n",
       "    </tr>\n",
       "    <tr>\n",
       "      <th>3</th>\n",
       "      <td>0</td>\n",
       "      <td>0</td>\n",
       "      <td>0</td>\n",
       "      <td>0</td>\n",
       "      <td>0</td>\n",
       "      <td>0</td>\n",
       "      <td>0</td>\n",
       "      <td>0</td>\n",
       "      <td>0</td>\n",
       "      <td>9</td>\n",
       "      <td>...</td>\n",
       "      <td>0</td>\n",
       "      <td>0</td>\n",
       "      <td>0</td>\n",
       "      <td>0</td>\n",
       "      <td>0</td>\n",
       "      <td>0</td>\n",
       "      <td>0</td>\n",
       "      <td>0</td>\n",
       "      <td>0</td>\n",
       "      <td>0</td>\n",
       "    </tr>\n",
       "    <tr>\n",
       "      <th>4</th>\n",
       "      <td>38</td>\n",
       "      <td>0</td>\n",
       "      <td>0</td>\n",
       "      <td>0</td>\n",
       "      <td>2</td>\n",
       "      <td>5</td>\n",
       "      <td>5</td>\n",
       "      <td>0</td>\n",
       "      <td>1</td>\n",
       "      <td>3</td>\n",
       "      <td>...</td>\n",
       "      <td>6</td>\n",
       "      <td>5</td>\n",
       "      <td>6</td>\n",
       "      <td>1</td>\n",
       "      <td>4</td>\n",
       "      <td>3</td>\n",
       "      <td>2</td>\n",
       "      <td>12</td>\n",
       "      <td>0</td>\n",
       "      <td>11</td>\n",
       "    </tr>\n",
       "  </tbody>\n",
       "</table>\n",
       "<p>5 rows × 46 columns</p>\n",
       "</div>"
      ],
      "text/plain": [
       "   action  ak  api  app  build  cla  cli  client  cloud  code  ...  run  \\\n",
       "0       0   0    0    0      2    5    0       0      0     2  ...    2   \n",
       "1       0   0    0    0      1    5    0       0      3     3  ...    1   \n",
       "2       2   6    1    0      0    0    0       4      3     0  ...    2   \n",
       "3       0   0    0    0      0    0    0       0      0     9  ...    0   \n",
       "4      38   0    0    0      2    5    5       0      1     3  ...    6   \n",
       "\n",
       "   sample  script  sdk  subscription  template  use  using  version  workflow  \n",
       "0       2       0    0             0         0    1      1        1         0  \n",
       "1       0       0    0             0         0    2      1        1         0  \n",
       "2       0       1    0             1         0    1      0        0         2  \n",
       "3       0       0    0             0         0    0      0        0         0  \n",
       "4       5       6    1             4         3    2     12        0        11  \n",
       "\n",
       "[5 rows x 46 columns]"
      ]
     },
     "execution_count": 30,
     "metadata": {},
     "output_type": "execute_result"
    }
   ],
   "source": [
    "df.head()"
   ]
  },
  {
   "cell_type": "code",
   "execution_count": 31,
   "id": "64a74af4",
   "metadata": {},
   "outputs": [
    {
     "ename": "NameError",
     "evalue": "name 'decision_tree' is not defined",
     "output_type": "error",
     "traceback": [
      "\u001b[0;31m---------------------------------------------------------------------------\u001b[0m",
      "\u001b[0;31mNameError\u001b[0m                                 Traceback (most recent call last)",
      "\u001b[0;32m/var/folders/0j/dh4q6gzs5xq4fv119n901xmw0000gn/T/ipykernel_42834/4188807438.py\u001b[0m in \u001b[0;36m<module>\u001b[0;34m\u001b[0m\n\u001b[0;32m----> 1\u001b[0;31m \u001b[0mdecision_tree\u001b[0m\u001b[0;34m(\u001b[0m\u001b[0mX_train_bow\u001b[0m\u001b[0;34m,\u001b[0m \u001b[0mX_validate_bow\u001b[0m\u001b[0;34m,\u001b[0m \u001b[0my_train\u001b[0m\u001b[0;34m,\u001b[0m \u001b[0my_validate\u001b[0m\u001b[0;34m)\u001b[0m\u001b[0;34m\u001b[0m\u001b[0;34m\u001b[0m\u001b[0m\n\u001b[0m",
      "\u001b[0;31mNameError\u001b[0m: name 'decision_tree' is not defined"
     ]
    }
   ],
   "source": [
    "decision_tree(X_train_bow, X_validate_bow, y_train, y_validate)"
   ]
  },
  {
   "cell_type": "code",
   "execution_count": null,
   "id": "2f0f472d",
   "metadata": {},
   "outputs": [],
   "source": [
    "#build my model\n",
    "tree = DecisionTreeClassifier(max_depth=10)\n",
    "\n",
    "tree.fit(X_train_bow, y_train)\n",
    "tree.score(X_train_bow, y_train)"
   ]
  },
  {
   "cell_type": "code",
   "execution_count": 32,
   "id": "4e60995a",
   "metadata": {
    "scrolled": true
   },
   "outputs": [
    {
     "ename": "NameError",
     "evalue": "name 'tree' is not defined",
     "output_type": "error",
     "traceback": [
      "\u001b[0;31m---------------------------------------------------------------------------\u001b[0m",
      "\u001b[0;31mNameError\u001b[0m                                 Traceback (most recent call last)",
      "\u001b[0;32m/var/folders/0j/dh4q6gzs5xq4fv119n901xmw0000gn/T/ipykernel_42834/1627345124.py\u001b[0m in \u001b[0;36m<module>\u001b[0;34m\u001b[0m\n\u001b[0;32m----> 1\u001b[0;31m \u001b[0mtree\u001b[0m\u001b[0;34m.\u001b[0m\u001b[0mscore\u001b[0m\u001b[0;34m(\u001b[0m\u001b[0mX_validate_bow\u001b[0m\u001b[0;34m,\u001b[0m \u001b[0my_validate\u001b[0m\u001b[0;34m)\u001b[0m\u001b[0;34m\u001b[0m\u001b[0;34m\u001b[0m\u001b[0m\n\u001b[0m",
      "\u001b[0;31mNameError\u001b[0m: name 'tree' is not defined"
     ]
    }
   ],
   "source": [
    "tree.score(X_validate_bow, y_validate)"
   ]
  },
  {
   "cell_type": "code",
   "execution_count": 33,
   "id": "8b410fff",
   "metadata": {},
   "outputs": [
    {
     "name": "stdout",
     "output_type": "stream",
     "text": [
      "Leaf number: 1\n",
      "Train: 0.2988505747126437\n",
      "Validate: 0.25\n",
      "Difference: -0.0488505747126437\n",
      "==================\n",
      "\n",
      "Leaf number: 2\n",
      "Train: 0.4061302681992337\n",
      "Validate: 0.3482142857142857\n",
      "Difference: -0.057915982484948\n",
      "==================\n",
      "\n",
      "Leaf number: 3\n",
      "Train: 0.4827586206896552\n",
      "Validate: 0.41964285714285715\n",
      "Difference: -0.06311576354679804\n",
      "==================\n",
      "\n",
      "Leaf number: 4\n",
      "Train: 0.5517241379310345\n",
      "Validate: 0.5089285714285714\n",
      "Difference: -0.04279556650246308\n",
      "==================\n",
      "\n",
      "Leaf number: 5\n",
      "Train: 0.6015325670498084\n",
      "Validate: 0.4732142857142857\n",
      "Difference: -0.1283182813355227\n",
      "==================\n",
      "\n",
      "Leaf number: 6\n",
      "Train: 0.6666666666666666\n",
      "Validate: 0.45535714285714285\n",
      "Difference: -0.21130952380952378\n",
      "==================\n",
      "\n",
      "Leaf number: 7\n",
      "Train: 0.7164750957854407\n",
      "Validate: 0.5089285714285714\n",
      "Difference: -0.20754652435686927\n",
      "==================\n",
      "\n",
      "Leaf number: 8\n",
      "Train: 0.7701149425287356\n",
      "Validate: 0.48214285714285715\n",
      "Difference: -0.28797208538587843\n",
      "==================\n",
      "\n",
      "Leaf number: 9\n",
      "Train: 0.8160919540229885\n",
      "Validate: 0.5\n",
      "Difference: -0.3160919540229885\n",
      "==================\n",
      "\n",
      "Leaf number: 10\n",
      "Train: 0.8467432950191571\n",
      "Validate: 0.49107142857142855\n",
      "Difference: -0.3556718664477286\n",
      "==================\n",
      "\n",
      "Leaf number: 11\n",
      "Train: 0.8582375478927203\n",
      "Validate: 0.5803571428571429\n",
      "Difference: -0.2778804050355774\n",
      "==================\n",
      "\n",
      "Leaf number: 12\n",
      "Train: 0.8812260536398467\n",
      "Validate: 0.5357142857142857\n",
      "Difference: -0.34551176792556104\n",
      "==================\n",
      "\n",
      "Leaf number: 13\n",
      "Train: 0.9003831417624522\n",
      "Validate: 0.4642857142857143\n",
      "Difference: -0.43609742747673785\n",
      "==================\n",
      "\n",
      "Leaf number: 14\n",
      "Train: 0.9118773946360154\n",
      "Validate: 0.45535714285714285\n",
      "Difference: -0.4565202517788725\n",
      "==================\n",
      "\n",
      "Leaf number: 15\n",
      "Train: 0.9310344827586207\n",
      "Validate: 0.4375\n",
      "Difference: -0.49353448275862066\n",
      "==================\n",
      "\n",
      "Leaf number: 16\n",
      "Train: 0.9540229885057471\n",
      "Validate: 0.4642857142857143\n",
      "Difference: -0.48973727422003277\n",
      "==================\n",
      "\n",
      "Leaf number: 17\n",
      "Train: 0.9616858237547893\n",
      "Validate: 0.48214285714285715\n",
      "Difference: -0.47954296661193213\n",
      "==================\n",
      "\n",
      "Leaf number: 18\n",
      "Train: 0.9501915708812261\n",
      "Validate: 0.5267857142857143\n",
      "Difference: -0.4234058565955118\n",
      "==================\n",
      "\n",
      "Leaf number: 19\n",
      "Train: 0.9540229885057471\n",
      "Validate: 0.5\n",
      "Difference: -0.45402298850574707\n",
      "==================\n",
      "\n"
     ]
    }
   ],
   "source": [
    "for x in range(1,20):\n",
    "    tree = DecisionTreeClassifier(max_depth=x)\n",
    "    tree.fit(X_train_bow, y_train)\n",
    "    t = tree.score(X_train_bow, y_train)\n",
    "    v = tree.score(X_validate_bow, y_validate)\n",
    "    print(f'Leaf number: {x}')\n",
    "    print(f'Train: {t}')\n",
    "    print(f'Validate: {v}')\n",
    "    print(f'Difference: {v - t}')\n",
    "    print('==================')\n",
    "    print()"
   ]
  },
  {
   "cell_type": "markdown",
   "id": "4410d8b8",
   "metadata": {},
   "source": [
    "### Iteration 2: TF-IDF and Decision"
   ]
  },
  {
   "cell_type": "code",
   "execution_count": 34,
   "id": "9874c497",
   "metadata": {},
   "outputs": [],
   "source": [
    "tfidf = TfidfVectorizer()\n",
    "\n",
    "X_train_bow = tfidf.fit_transform(X_train)\n",
    "X_validate_bow = tfidf.transform(X_validate)"
   ]
  },
  {
   "cell_type": "code",
   "execution_count": 35,
   "id": "2ffded14",
   "metadata": {
    "scrolled": false
   },
   "outputs": [
    {
     "name": "stdout",
     "output_type": "stream",
     "text": [
      "Leaf number: 1\n",
      "Train: 0.2988505747126437\n",
      "Validate: 0.25\n",
      "Difference: -0.0488505747126437\n",
      "==================\n",
      "\n",
      "Leaf number: 2\n",
      "Train: 0.4099616858237548\n",
      "Validate: 0.3392857142857143\n",
      "Difference: -0.0706759715380405\n",
      "==================\n",
      "\n",
      "Leaf number: 3\n",
      "Train: 0.47509578544061304\n",
      "Validate: 0.38392857142857145\n",
      "Difference: -0.09116721401204159\n",
      "==================\n",
      "\n",
      "Leaf number: 4\n",
      "Train: 0.524904214559387\n",
      "Validate: 0.4107142857142857\n",
      "Difference: -0.11418992884510126\n",
      "==================\n",
      "\n",
      "Leaf number: 5\n",
      "Train: 0.6053639846743295\n",
      "Validate: 0.4017857142857143\n",
      "Difference: -0.2035782703886152\n",
      "==================\n",
      "\n",
      "Leaf number: 6\n",
      "Train: 0.6704980842911877\n",
      "Validate: 0.38392857142857145\n",
      "Difference: -0.2865695128626163\n",
      "==================\n",
      "\n",
      "Leaf number: 7\n",
      "Train: 0.7164750957854407\n",
      "Validate: 0.38392857142857145\n",
      "Difference: -0.3325465243568692\n",
      "==================\n",
      "\n",
      "Leaf number: 8\n",
      "Train: 0.7586206896551724\n",
      "Validate: 0.4107142857142857\n",
      "Difference: -0.3479064039408867\n",
      "==================\n",
      "\n",
      "Leaf number: 9\n",
      "Train: 0.8160919540229885\n",
      "Validate: 0.4017857142857143\n",
      "Difference: -0.4143062397372742\n",
      "==================\n",
      "\n",
      "Leaf number: 10\n",
      "Train: 0.842911877394636\n",
      "Validate: 0.4107142857142857\n",
      "Difference: -0.4321975916803503\n",
      "==================\n",
      "\n",
      "Leaf number: 11\n",
      "Train: 0.8773946360153256\n",
      "Validate: 0.36607142857142855\n",
      "Difference: -0.5113232074438971\n",
      "==================\n",
      "\n",
      "Leaf number: 12\n",
      "Train: 0.9003831417624522\n",
      "Validate: 0.4017857142857143\n",
      "Difference: -0.49859742747673785\n",
      "==================\n",
      "\n",
      "Leaf number: 13\n",
      "Train: 0.9233716475095786\n",
      "Validate: 0.39285714285714285\n",
      "Difference: -0.5305145046524358\n",
      "==================\n",
      "\n",
      "Leaf number: 14\n",
      "Train: 0.9425287356321839\n",
      "Validate: 0.42857142857142855\n",
      "Difference: -0.5139573070607553\n",
      "==================\n",
      "\n",
      "Leaf number: 15\n",
      "Train: 0.9540229885057471\n",
      "Validate: 0.4107142857142857\n",
      "Difference: -0.5433087027914614\n",
      "==================\n",
      "\n",
      "Leaf number: 16\n",
      "Train: 0.9616858237547893\n",
      "Validate: 0.4107142857142857\n",
      "Difference: -0.5509715380405036\n",
      "==================\n",
      "\n",
      "Leaf number: 17\n",
      "Train: 0.9655172413793104\n",
      "Validate: 0.41964285714285715\n",
      "Difference: -0.5458743842364533\n",
      "==================\n",
      "\n",
      "Leaf number: 18\n",
      "Train: 0.9693486590038314\n",
      "Validate: 0.39285714285714285\n",
      "Difference: -0.5764915161466886\n",
      "==================\n",
      "\n",
      "Leaf number: 19\n",
      "Train: 0.9693486590038314\n",
      "Validate: 0.4107142857142857\n",
      "Difference: -0.5586343732895457\n",
      "==================\n",
      "\n"
     ]
    }
   ],
   "source": [
    "for x in range(1,20):\n",
    "    tfidf = TfidfVectorizer()\n",
    "\n",
    "    X_train_bow = tfidf.fit_transform(X_train)\n",
    "    X_validate_bow = tfidf.transform(X_validate)\n",
    "    \n",
    "    tree = DecisionTreeClassifier(max_depth=x)\n",
    "    tree.fit(X_train_bow, y_train)\n",
    "    \n",
    "    t = tree.score(X_train_bow, y_train)\n",
    "    v = tree.score(X_validate_bow, y_validate)\n",
    "    print(f'Leaf number: {x}')\n",
    "    print(f'Train: {t}')\n",
    "    print(f'Validate: {v}')\n",
    "    print(f'Difference: {v - t}')\n",
    "    print('==================')\n",
    "    print()"
   ]
  },
  {
   "cell_type": "markdown",
   "id": "b3f8983e",
   "metadata": {},
   "source": [
    "### Count and Random"
   ]
  },
  {
   "cell_type": "code",
   "execution_count": 36,
   "id": "e24a2bdd",
   "metadata": {},
   "outputs": [],
   "source": [
    "#get two words at once!\n",
    "cv = CountVectorizer()\n",
    "\n",
    "X_train_bow = cv.fit_transform(X_train)\n",
    "X_validate_bow = cv.transform(X_validate)"
   ]
  },
  {
   "cell_type": "code",
   "execution_count": 37,
   "id": "9a34ffe4",
   "metadata": {},
   "outputs": [
    {
     "data": {
      "text/plain": [
       "0.7164750957854407"
      ]
     },
     "execution_count": 37,
     "metadata": {},
     "output_type": "execute_result"
    }
   ],
   "source": [
    "forest = RandomForestClassifier(max_depth=5, min_samples_leaf=5)\n",
    "\n",
    "forest.fit(X_train_bow, y_train)\n",
    "forest.score(X_train_bow, y_train)"
   ]
  },
  {
   "cell_type": "code",
   "execution_count": 38,
   "id": "4e448427",
   "metadata": {},
   "outputs": [
    {
     "data": {
      "text/plain": [
       "0.5267857142857143"
      ]
     },
     "execution_count": 38,
     "metadata": {},
     "output_type": "execute_result"
    }
   ],
   "source": [
    "forest.score(X_validate_bow, y_validate)"
   ]
  },
  {
   "cell_type": "code",
   "execution_count": 39,
   "id": "940c2853",
   "metadata": {},
   "outputs": [
    {
     "ename": "NameError",
     "evalue": "name 'random_forest_scores' is not defined",
     "output_type": "error",
     "traceback": [
      "\u001b[0;31m---------------------------------------------------------------------------\u001b[0m",
      "\u001b[0;31mNameError\u001b[0m                                 Traceback (most recent call last)",
      "\u001b[0;32m/var/folders/0j/dh4q6gzs5xq4fv119n901xmw0000gn/T/ipykernel_42834/1241711953.py\u001b[0m in \u001b[0;36m<module>\u001b[0;34m\u001b[0m\n\u001b[0;32m----> 1\u001b[0;31m \u001b[0mrandom_forest_scores\u001b[0m\u001b[0;34m(\u001b[0m\u001b[0mX_train_bow\u001b[0m\u001b[0;34m,\u001b[0m \u001b[0my_train\u001b[0m\u001b[0;34m,\u001b[0m \u001b[0mX_validate_bow\u001b[0m\u001b[0;34m,\u001b[0m \u001b[0my_validate\u001b[0m\u001b[0;34m)\u001b[0m\u001b[0;34m\u001b[0m\u001b[0;34m\u001b[0m\u001b[0m\n\u001b[0m",
      "\u001b[0;31mNameError\u001b[0m: name 'random_forest_scores' is not defined"
     ]
    }
   ],
   "source": [
    "random_forest_scores(X_train_bow, y_train, X_validate_bow, y_validate)"
   ]
  },
  {
   "cell_type": "code",
   "execution_count": 40,
   "id": "9b7ce0af",
   "metadata": {
    "scrolled": false
   },
   "outputs": [
    {
     "name": "stdout",
     "output_type": "stream",
     "text": [
      "Leaf number: 1\n",
      "Train: 0.4789272030651341\n",
      "Validate: 0.39285714285714285\n",
      "Difference: -0.08607006020799124\n",
      "==================\n",
      "\n",
      "Leaf number: 2\n",
      "Train: 0.5862068965517241\n",
      "Validate: 0.48214285714285715\n",
      "Difference: -0.10406403940886694\n",
      "==================\n",
      "\n",
      "Leaf number: 3\n",
      "Train: 0.6245210727969349\n",
      "Validate: 0.4732142857142857\n",
      "Difference: -0.15130678708264922\n",
      "==================\n",
      "\n",
      "Leaf number: 4\n",
      "Train: 0.6475095785440613\n",
      "Validate: 0.5803571428571429\n",
      "Difference: -0.06715243568691842\n",
      "==================\n",
      "\n",
      "Leaf number: 5\n",
      "Train: 0.6896551724137931\n",
      "Validate: 0.5446428571428571\n",
      "Difference: -0.14501231527093605\n",
      "==================\n",
      "\n",
      "Leaf number: 6\n",
      "Train: 0.6743295019157088\n",
      "Validate: 0.6071428571428571\n",
      "Difference: -0.06718664477285174\n",
      "==================\n",
      "\n",
      "Leaf number: 7\n",
      "Train: 0.7049808429118773\n",
      "Validate: 0.5535714285714286\n",
      "Difference: -0.15140941434044874\n",
      "==================\n",
      "\n",
      "Leaf number: 8\n",
      "Train: 0.6973180076628352\n",
      "Validate: 0.5357142857142857\n",
      "Difference: -0.16160372194854955\n",
      "==================\n",
      "\n",
      "Leaf number: 9\n",
      "Train: 0.7088122605363985\n",
      "Validate: 0.5892857142857143\n",
      "Difference: -0.11952654625068415\n",
      "==================\n",
      "\n",
      "Leaf number: 10\n",
      "Train: 0.7318007662835249\n",
      "Validate: 0.5892857142857143\n",
      "Difference: -0.14251505199781056\n",
      "==================\n",
      "\n",
      "Leaf number: 11\n",
      "Train: 0.7318007662835249\n",
      "Validate: 0.5892857142857143\n",
      "Difference: -0.14251505199781056\n",
      "==================\n",
      "\n",
      "Leaf number: 12\n",
      "Train: 0.7432950191570882\n",
      "Validate: 0.5625\n",
      "Difference: -0.18079501915708818\n",
      "==================\n",
      "\n",
      "Leaf number: 13\n",
      "Train: 0.7624521072796935\n",
      "Validate: 0.5714285714285714\n",
      "Difference: -0.19102353585112208\n",
      "==================\n",
      "\n",
      "Leaf number: 14\n",
      "Train: 0.8122605363984674\n",
      "Validate: 0.5714285714285714\n",
      "Difference: -0.240831964969896\n",
      "==================\n",
      "\n",
      "Leaf number: 15\n",
      "Train: 0.8275862068965517\n",
      "Validate: 0.5714285714285714\n",
      "Difference: -0.2561576354679803\n",
      "==================\n",
      "\n",
      "Leaf number: 16\n",
      "Train: 0.89272030651341\n",
      "Validate: 0.5982142857142857\n",
      "Difference: -0.29450602079912425\n",
      "==================\n",
      "\n",
      "Leaf number: 17\n",
      "Train: 0.9272030651340997\n",
      "Validate: 0.6160714285714286\n",
      "Difference: -0.31113163656267107\n",
      "==================\n",
      "\n",
      "Leaf number: 18\n",
      "Train: 0.9616858237547893\n",
      "Validate: 0.625\n",
      "Difference: -0.3366858237547893\n",
      "==================\n",
      "\n",
      "Leaf number: 19\n",
      "Train: 0.9693486590038314\n",
      "Validate: 0.5982142857142857\n",
      "Difference: -0.3711343732895457\n",
      "==================\n",
      "\n"
     ]
    }
   ],
   "source": [
    "for x in range(1,20):\n",
    "    cv = CountVectorizer()\n",
    "    \n",
    "    X_train_bow = cv.fit_transform(X_train)\n",
    "    X_validate_bow = cv.transform(X_validate)\n",
    "    \n",
    "    forest = RandomForestClassifier(max_depth=x, min_samples_leaf=(20-x))\n",
    "    forest.fit(X_train_bow, y_train)\n",
    "    \n",
    "    t = forest.score(X_train_bow, y_train)\n",
    "    v = forest.score(X_validate_bow, y_validate)\n",
    "    print(f'Leaf number: {x}')\n",
    "    print(f'Train: {t}')\n",
    "    print(f'Validate: {v}')\n",
    "    print(f'Difference: {v - t}')\n",
    "    print('==================')\n",
    "    print()"
   ]
  },
  {
   "cell_type": "markdown",
   "id": "f2304aa5",
   "metadata": {},
   "source": [
    "### TF-IDF and Random"
   ]
  },
  {
   "cell_type": "code",
   "execution_count": 41,
   "id": "d11eb1d9",
   "metadata": {},
   "outputs": [],
   "source": [
    "tfidf = TfidfVectorizer()\n",
    "\n",
    "X_train_bow = tfidf.fit_transform(X_train)\n",
    "X_validate_bow = tfidf.transform(X_validate)"
   ]
  },
  {
   "cell_type": "code",
   "execution_count": 42,
   "id": "332f4903",
   "metadata": {
    "scrolled": false
   },
   "outputs": [
    {
     "name": "stdout",
     "output_type": "stream",
     "text": [
      "Leaf number: 1\n",
      "Train: 0.4559386973180077\n",
      "Validate: 0.39285714285714285\n",
      "Difference: -0.06308155446086483\n",
      "==================\n",
      "\n",
      "Leaf number: 2\n",
      "Train: 0.5555555555555556\n",
      "Validate: 0.45535714285714285\n",
      "Difference: -0.10019841269841273\n",
      "==================\n",
      "\n",
      "Leaf number: 3\n",
      "Train: 0.6245210727969349\n",
      "Validate: 0.5535714285714286\n",
      "Difference: -0.07094964422550631\n",
      "==================\n",
      "\n",
      "Leaf number: 4\n",
      "Train: 0.6896551724137931\n",
      "Validate: 0.5892857142857143\n",
      "Difference: -0.10036945812807885\n",
      "==================\n",
      "\n",
      "Leaf number: 5\n",
      "Train: 0.7011494252873564\n",
      "Validate: 0.5625\n",
      "Difference: -0.13864942528735635\n",
      "==================\n",
      "\n",
      "Leaf number: 6\n",
      "Train: 0.7203065134099617\n",
      "Validate: 0.5446428571428571\n",
      "Difference: -0.17566365626710456\n",
      "==================\n",
      "\n",
      "Leaf number: 7\n",
      "Train: 0.7241379310344828\n",
      "Validate: 0.5446428571428571\n",
      "Difference: -0.17949507389162567\n",
      "==================\n",
      "\n",
      "Leaf number: 8\n",
      "Train: 0.7279693486590039\n",
      "Validate: 0.5892857142857143\n",
      "Difference: -0.13868363437328957\n",
      "==================\n",
      "\n",
      "Leaf number: 9\n",
      "Train: 0.7394636015325671\n",
      "Validate: 0.6071428571428571\n",
      "Difference: -0.13232074438970998\n",
      "==================\n",
      "\n",
      "Leaf number: 10\n",
      "Train: 0.7739463601532567\n",
      "Validate: 0.625\n",
      "Difference: -0.14894636015325668\n",
      "==================\n",
      "\n",
      "Leaf number: 11\n",
      "Train: 0.7816091954022989\n",
      "Validate: 0.625\n",
      "Difference: -0.1566091954022989\n",
      "==================\n",
      "\n",
      "Leaf number: 12\n",
      "Train: 0.7931034482758621\n",
      "Validate: 0.5714285714285714\n",
      "Difference: -0.2216748768472907\n",
      "==================\n",
      "\n",
      "Leaf number: 13\n",
      "Train: 0.8122605363984674\n",
      "Validate: 0.6339285714285714\n",
      "Difference: -0.178331964969896\n",
      "==================\n",
      "\n",
      "Leaf number: 14\n",
      "Train: 0.8659003831417624\n",
      "Validate: 0.5803571428571429\n",
      "Difference: -0.2855432402846195\n",
      "==================\n",
      "\n",
      "Leaf number: 15\n",
      "Train: 0.8544061302681992\n",
      "Validate: 0.5982142857142857\n",
      "Difference: -0.25619184455391353\n",
      "==================\n",
      "\n",
      "Leaf number: 16\n",
      "Train: 0.9042145593869731\n",
      "Validate: 0.5803571428571429\n",
      "Difference: -0.32385741652983024\n",
      "==================\n",
      "\n",
      "Leaf number: 17\n",
      "Train: 0.946360153256705\n",
      "Validate: 0.5982142857142857\n",
      "Difference: -0.3481458675424193\n",
      "==================\n",
      "\n",
      "Leaf number: 18\n",
      "Train: 0.9655172413793104\n",
      "Validate: 0.625\n",
      "Difference: -0.3405172413793104\n",
      "==================\n",
      "\n",
      "Leaf number: 19\n",
      "Train: 0.9693486590038314\n",
      "Validate: 0.625\n",
      "Difference: -0.3443486590038314\n",
      "==================\n",
      "\n"
     ]
    }
   ],
   "source": [
    "for x in range(1,20):\n",
    "    forest = RandomForestClassifier(max_depth=x, min_samples_leaf=(20-x))\n",
    "\n",
    "    forest.fit(X_train_bow, y_train)\n",
    "    train = forest.score(X_train_bow, y_train)\n",
    "    \n",
    "    validate = forest.score(X_validate_bow, y_validate)\n",
    "    print(f'Leaf number: {x}')\n",
    "    print(f'Train: {train}')\n",
    "    print(f'Validate: {validate}')\n",
    "    print(f'Difference: {validate - train}')\n",
    "    print('==================')\n",
    "    print()"
   ]
  },
  {
   "cell_type": "code",
   "execution_count": 44,
   "id": "7cea1620",
   "metadata": {},
   "outputs": [],
   "source": [
    "tfidf = TfidfVectorizer(ngram_range=(1,2))\n",
    "\n",
    "X_train_bow = tfidf.fit_transform(X_train)\n",
    "X_validate_bow = tfidf.transform(X_validate)"
   ]
  },
  {
   "cell_type": "code",
   "execution_count": 45,
   "id": "081a7c96",
   "metadata": {},
   "outputs": [
    {
     "data": {
      "text/plain": [
       "0.8544061302681992"
      ]
     },
     "execution_count": 45,
     "metadata": {},
     "output_type": "execute_result"
    }
   ],
   "source": [
    "forest = RandomForestClassifier(max_depth=20, min_samples_leaf=5)\n",
    "\n",
    "forest.fit(X_train_bow, y_train)\n",
    "forest.score(X_train_bow, y_train)"
   ]
  },
  {
   "cell_type": "code",
   "execution_count": 46,
   "id": "ce0fbc30",
   "metadata": {},
   "outputs": [
    {
     "data": {
      "text/plain": [
       "0.6607142857142857"
      ]
     },
     "execution_count": 46,
     "metadata": {},
     "output_type": "execute_result"
    }
   ],
   "source": [
    "forest.score(X_validate_bow, y_validate)"
   ]
  },
  {
   "cell_type": "markdown",
   "id": "4d1b6284",
   "metadata": {},
   "source": [
    "### Count and Naive Bayes"
   ]
  },
  {
   "cell_type": "code",
   "execution_count": 47,
   "id": "c8713c93",
   "metadata": {},
   "outputs": [],
   "source": [
    "#get two words at once!\n",
    "cv = CountVectorizer()\n",
    "\n",
    "X_train_bow = cv.fit_transform(X_train)\n",
    "X_validate_bow = cv.transform(X_validate)"
   ]
  },
  {
   "cell_type": "code",
   "execution_count": 48,
   "id": "b8418e35",
   "metadata": {},
   "outputs": [
    {
     "data": {
      "text/plain": [
       "0.6436781609195402"
      ]
     },
     "execution_count": 48,
     "metadata": {},
     "output_type": "execute_result"
    }
   ],
   "source": [
    "mnb = MultinomialNB()\n",
    "\n",
    "mnb.fit(X_train_bow, y_train)\n",
    "mnb.score(X_train_bow, y_train)"
   ]
  },
  {
   "cell_type": "code",
   "execution_count": 49,
   "id": "c4d2c63a",
   "metadata": {},
   "outputs": [
    {
     "data": {
      "text/plain": [
       "0.5"
      ]
     },
     "execution_count": 49,
     "metadata": {},
     "output_type": "execute_result"
    }
   ],
   "source": [
    "mnb.score(X_validate_bow, y_validate)"
   ]
  },
  {
   "cell_type": "markdown",
   "id": "f1788ce4",
   "metadata": {},
   "source": [
    "So far this is the best one. I.e. moderate cleaning with no ngrams, using count vectorizer"
   ]
  },
  {
   "cell_type": "markdown",
   "id": "75dee6f4",
   "metadata": {},
   "source": [
    "### TF-IDF and Naive Bayes"
   ]
  },
  {
   "cell_type": "code",
   "execution_count": 50,
   "id": "d5e53840",
   "metadata": {},
   "outputs": [],
   "source": [
    "tfidf = TfidfVectorizer()\n",
    "\n",
    "X_train_bow = tfidf.fit_transform(X_train)\n",
    "X_validate_bow = tfidf.transform(X_validate)"
   ]
  },
  {
   "cell_type": "code",
   "execution_count": 51,
   "id": "95964a5a",
   "metadata": {},
   "outputs": [
    {
     "data": {
      "text/plain": [
       "0.6628352490421456"
      ]
     },
     "execution_count": 51,
     "metadata": {},
     "output_type": "execute_result"
    }
   ],
   "source": [
    "mnb = MultinomialNB()\n",
    "\n",
    "mnb.fit(X_train_bow, y_train)\n",
    "mnb.score(X_train_bow, y_train)"
   ]
  },
  {
   "cell_type": "code",
   "execution_count": 52,
   "id": "7149c11c",
   "metadata": {},
   "outputs": [
    {
     "data": {
      "text/plain": [
       "0.5982142857142857"
      ]
     },
     "execution_count": 52,
     "metadata": {},
     "output_type": "execute_result"
    }
   ],
   "source": [
    "mnb.score(X_validate_bow, y_validate)"
   ]
  },
  {
   "cell_type": "code",
   "execution_count": 53,
   "id": "dcfd123b",
   "metadata": {},
   "outputs": [],
   "source": [
    "def random_forest_scores(X_bow, y_train, X_validate_bow, y_validate):\n",
    "    \"\"\"\n",
    "    Trains and evaluates a random forest classifier with different combinations of hyperparameters. The function takes in\n",
    "    training and validation datasets, and returns a dataframe summarizing the model performance on each combination of\n",
    "    hyperparameters.\n",
    "    Parameters:\n",
    "    -----------\n",
    "    X_train : pandas DataFrame\n",
    "        Features of the training dataset.\n",
    "    y_train : pandas Series\n",
    "        Target variable of the training dataset.\n",
    "    X_validate : pandas DataFrame\n",
    "        Features of the validation dataset.\n",
    "    y_validate : pandas Series\n",
    "        Target variable of the validation dataset.\n",
    "    Returns:\n",
    "    --------\n",
    "    df : pandas DataFrame\n",
    "        A dataframe summarizing the model performance on each combination of hyperparameters.\n",
    "    \"\"\"\n",
    "    #define variables\n",
    "    train_scores = []\n",
    "    validate_scores = []\n",
    "    min_samples_leaf_values = [1, 2, 3, 4, 5, 6, 7, 8 , 9, 10]\n",
    "    max_depth_values = [10, 9, 8, 7, 6, 5, 4, 3, 2, 1]\n",
    "    for min_samples_leaf, max_depth in zip(min_samples_leaf_values, max_depth_values):\n",
    "        rf = RandomForestClassifier(min_samples_leaf=min_samples_leaf, max_depth=max_depth,random_state=123)\n",
    "        rf.fit(X_bow, y_train)\n",
    "        train_score = rf.score(X_bow, y_train)\n",
    "        validate_score = rf.score(X_validate_bow, y_validate)\n",
    "        train_scores.append(train_score)\n",
    "        validate_scores.append(validate_score)\n",
    "    # Calculate the difference between the train and validation scores\n",
    "    diff_scores = [train_score - validate_score for train_score, validate_score in zip(train_scores, validate_scores)]\n",
    "    #Put results into a dataframe\n",
    "    df = pd.DataFrame({\n",
    "        'min_samples_leaf': min_samples_leaf_values,\n",
    "        'max_depth': max_depth_values,\n",
    "        'train_score': train_scores,\n",
    "        'validate_score': validate_scores,\n",
    "        'diff_score': diff_scores})\n",
    "    # Set plot style\n",
    "    sns.set_style('whitegrid')\n",
    "    # Create plot\n",
    "    plt.figure(figsize=(8, 6))\n",
    "    plt.plot(max_depth_values, train_scores, label='train', marker='o', color='blue')\n",
    "    plt.plot(max_depth_values, validate_scores, label='validation', marker='o', color='orange')\n",
    "    plt.fill_between(max_depth_values, train_scores, validate_scores, alpha=0.2, color='gray')\n",
    "    plt.xticks([2,4,6,8,10],['Leaf 9 and Depth 2','Leaf 7 and Depth 4','Leaf 5 and Depth 6','Leaf 3 and Depth 8','Leaf 1and Depth 10'], rotation = 45)\n",
    "    plt.xlabel('min_samples_leaf and max_depth', fontsize=14)\n",
    "    plt.ylabel('Accuracy', fontsize=14)\n",
    "    plt.title('Random Forest Classifier Performance', fontsize=18)\n",
    "    plt.legend(fontsize=12)\n",
    "    plt.show()\n",
    "    return df"
   ]
  },
  {
   "cell_type": "code",
   "execution_count": 56,
   "id": "ed21fc98",
   "metadata": {},
   "outputs": [],
   "source": [
    "import seaborn as sns\n",
    "import matplotlib.pyplot as plt"
   ]
  },
  {
   "cell_type": "code",
   "execution_count": 57,
   "id": "2ee70f21",
   "metadata": {},
   "outputs": [],
   "source": [
    "def decision_tree(X_bow, X_validate_bow, y_train, y_validate):\n",
    "    \"\"\"\n",
    "    This function trains a decision tree classifier on the provided training data, and evaluates its performance on the\n",
    "    validation data for different values of the 'max_depth' hyperparameter. It then generates a plot of the training and\n",
    "    validation accuracy scores as a function of 'max_depth', and returns a DataFrame containing these scores.\n",
    "    Parameters:\n",
    "    - X_train (pandas.DataFrame): A DataFrame containing the features for the training data.\n",
    "    - X_validate (pandas.DataFrame): A DataFrame containing the features for the validation data.\n",
    "    - y_train (pandas.Series): A Series containing the target variable for the training data.\n",
    "    - y_validate (pandas.Series): A Series containing the target variable for the validation data.\n",
    "    Returns:\n",
    "    - scores_df (pandas.DataFrame): A DataFrame containing the training and validation accuracy scores, as well as the\n",
    "      difference between them, for different values of the 'max_depth' hyperparameter.\n",
    "    \"\"\"\n",
    "    # get data\n",
    "    scores_all = []\n",
    "    for x in range(1,20):\n",
    "        tree = DecisionTreeClassifier(max_depth=x, random_state=123)\n",
    "        tree.fit(X_bow, y_train)\n",
    "        train_acc = tree.score(X_bow,y_train)\n",
    "        val_acc = tree.score(X_validate_bow, y_validate)\n",
    "        score_diff = train_acc - val_acc\n",
    "        scores_all.append([x, train_acc, val_acc, score_diff])\n",
    "    scores_df = pd.DataFrame(scores_all, columns=['max_depth', 'train_acc','val_acc','score_diff'])\n",
    "    # Plot the results\n",
    "    sns.set_style('whitegrid')\n",
    "    plt.plot(scores_df['max_depth'], scores_df['train_acc'], label='Train score')\n",
    "    plt.plot(scores_df['max_depth'], scores_df['val_acc'], label='Validation score')\n",
    "    plt.fill_between(scores_df['max_depth'], scores_df['train_acc'], scores_df['val_acc'], alpha=0.2, color='gray')\n",
    "    plt.xlabel('Max depth')\n",
    "    plt.ylabel('Accuracy')\n",
    "    plt.title('Decision Tree Accuracy vs Max Depth')\n",
    "    plt.legend()\n",
    "    plt.show()\n",
    "    return scores_df"
   ]
  },
  {
   "cell_type": "code",
   "execution_count": 58,
   "id": "c708d4b1",
   "metadata": {},
   "outputs": [
    {
     "ename": "AttributeError",
     "evalue": "'numpy.float64' object has no attribute 'language'",
     "output_type": "error",
     "traceback": [
      "\u001b[0;31m---------------------------------------------------------------------------\u001b[0m",
      "\u001b[0;31mAttributeError\u001b[0m                            Traceback (most recent call last)",
      "\u001b[0;32m/var/folders/0j/dh4q6gzs5xq4fv119n901xmw0000gn/T/ipykernel_42834/1061131116.py\u001b[0m in \u001b[0;36m<module>\u001b[0;34m\u001b[0m\n\u001b[0;32m----> 1\u001b[0;31m \u001b[0mlen\u001b[0m\u001b[0;34m(\u001b[0m\u001b[0mtrain\u001b[0m\u001b[0;34m[\u001b[0m\u001b[0mtrain\u001b[0m\u001b[0;34m.\u001b[0m\u001b[0mlanguage\u001b[0m\u001b[0;34m==\u001b[0m\u001b[0;34m'C#'\u001b[0m\u001b[0;34m]\u001b[0m\u001b[0;34m)\u001b[0m\u001b[0;34m\u001b[0m\u001b[0;34m\u001b[0m\u001b[0m\n\u001b[0m",
      "\u001b[0;31mAttributeError\u001b[0m: 'numpy.float64' object has no attribute 'language'"
     ]
    }
   ],
   "source": [
    "len(train[train.language=='C#'])"
   ]
  },
  {
   "cell_type": "code",
   "execution_count": null,
   "id": "9ff133c7",
   "metadata": {},
   "outputs": [],
   "source": [
    "import numpy as np\n",
    "import matplotlib.pyplot as plt\n",
    "import seaborn as sns\n",
    "from sklearn.metrics import confusion_matrix\n",
    "# Assuming you have already trained and predicted using your Naive Bayes model\n",
    "y_true = [...]  # True labels\n",
    "y_pred = [...]  # Predicted labels\n",
    "# Compute confusion matrix\n",
    "cm = confusion_matrix(y_true, y_pred)\n",
    "# Plot confusion matrix as a heatmap\n",
    "plt.figure(figsize=(10, 8))\n",
    "sns.heatmap(cm, annot=True, cmap='Blues', fmt='d', xticklabels=classes, yticklabels=classes)\n",
    "plt.xlabel('Predicted Labels')\n",
    "plt.ylabel('True Labels')\n",
    "plt.title('Confusion Matrix')\n",
    "plt.show()"
   ]
  },
  {
   "cell_type": "code",
   "execution_count": null,
   "id": "fbb25305",
   "metadata": {},
   "outputs": [],
   "source": []
  }
 ],
 "metadata": {
  "kernelspec": {
   "display_name": "Python 3 (ipykernel)",
   "language": "python",
   "name": "python3"
  },
  "language_info": {
   "codemirror_mode": {
    "name": "ipython",
    "version": 3
   },
   "file_extension": ".py",
   "mimetype": "text/x-python",
   "name": "python",
   "nbconvert_exporter": "python",
   "pygments_lexer": "ipython3",
   "version": "3.9.13"
  }
 },
 "nbformat": 4,
 "nbformat_minor": 5
}
