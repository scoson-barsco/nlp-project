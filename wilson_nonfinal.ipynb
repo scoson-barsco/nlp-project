{
 "cells": [
  {
   "cell_type": "code",
   "execution_count": 1,
   "id": "be3656e1",
   "metadata": {},
   "outputs": [],
   "source": [
    "import pandas as pd\n",
    "import numpy as np"
   ]
  },
  {
   "cell_type": "code",
   "execution_count": 2,
   "id": "85a2115d",
   "metadata": {},
   "outputs": [],
   "source": [
    "import requests"
   ]
  },
  {
   "cell_type": "code",
   "execution_count": 3,
   "id": "999d8006",
   "metadata": {},
   "outputs": [],
   "source": [
    "from bs4 import BeautifulSoup"
   ]
  },
  {
   "cell_type": "code",
   "execution_count": 4,
   "id": "5dcb3ace",
   "metadata": {},
   "outputs": [],
   "source": [
    "num = 10\n",
    "link = f'https://github.com/orgs/Azure/repositories?page={num}'"
   ]
  },
  {
   "cell_type": "code",
   "execution_count": 5,
   "id": "c6ddd0bc",
   "metadata": {},
   "outputs": [],
   "source": [
    "# div class='Box-sc-g0xbh4-0 bItZsX'\n",
    "# div class = 'Box-sc-g0xbh4-0 bBwPjs search-title'\n",
    "\n",
    "# a href"
   ]
  },
  {
   "cell_type": "code",
   "execution_count": 6,
   "id": "685ef102",
   "metadata": {},
   "outputs": [
    {
     "data": {
      "text/plain": [
       "<Response [200]>"
      ]
     },
     "execution_count": 6,
     "metadata": {},
     "output_type": "execute_result"
    }
   ],
   "source": [
    "requests.get(link)"
   ]
  },
  {
   "cell_type": "code",
   "execution_count": 7,
   "id": "5400796b",
   "metadata": {},
   "outputs": [],
   "source": [
    "response = requests.get(link)\n",
    "soup = BeautifulSoup(response.content, 'html.parser')"
   ]
  },
  {
   "cell_type": "code",
   "execution_count": 8,
   "id": "7b44d230",
   "metadata": {},
   "outputs": [],
   "source": [
    "# for x in range(1,31):\n",
    "#     url = f'https://github.com/orgs/Azure/repositories?page={x}'\n",
    "    \n",
    "#     response = requests.get(url)\n",
    "#     soup = BeautifulSoup(response.content, 'html.parser')\n",
    "    \n",
    "#     for e in soup.find_all('a', itemprop='name codeRepository'):\n",
    "#         print(f'\\'{e.attrs[\"href\"][1:]}\\',')"
   ]
  },
  {
   "cell_type": "code",
   "execution_count": 9,
   "id": "f983d530",
   "metadata": {},
   "outputs": [],
   "source": [
    "import acquire"
   ]
  },
  {
   "cell_type": "code",
   "execution_count": 10,
   "id": "d9d5a4ef",
   "metadata": {},
   "outputs": [],
   "source": [
    "data = acquire.scrape_github_data()"
   ]
  },
  {
   "cell_type": "code",
   "execution_count": 11,
   "id": "ed20082c",
   "metadata": {},
   "outputs": [],
   "source": [
    "pd.DataFrame(data).to_csv('github.csv')"
   ]
  },
  {
   "cell_type": "code",
   "execution_count": 12,
   "id": "5871125d",
   "metadata": {
    "scrolled": true
   },
   "outputs": [
    {
     "name": "stdout",
     "output_type": "stream",
     "text": [
      "<class 'pandas.core.frame.DataFrame'>\n",
      "RangeIndex: 145 entries, 0 to 144\n",
      "Data columns (total 3 columns):\n",
      " #   Column           Non-Null Count  Dtype \n",
      "---  ------           --------------  ----- \n",
      " 0   repo             145 non-null    object\n",
      " 1   language         133 non-null    object\n",
      " 2   readme_contents  145 non-null    object\n",
      "dtypes: object(3)\n",
      "memory usage: 3.5+ KB\n"
     ]
    }
   ],
   "source": [
    "pd.DataFrame(data).info()"
   ]
  },
  {
   "cell_type": "code",
   "execution_count": 15,
   "id": "197e3da8",
   "metadata": {},
   "outputs": [],
   "source": [
    "data = pd.read_csv('github.csv', index_col=0)"
   ]
  },
  {
   "cell_type": "code",
   "execution_count": 18,
   "id": "f2b4ad7e",
   "metadata": {},
   "outputs": [
    {
     "data": {
      "text/plain": [
       "C#                  20\n",
       "HCL                 19\n",
       "Go                  17\n",
       "TypeScript          14\n",
       "NaN                 12\n",
       "Python               9\n",
       "Bicep                9\n",
       "JavaScript           8\n",
       "PowerShell           7\n",
       "Shell                6\n",
       "C                    6\n",
       "Jupyter Notebook     5\n",
       "Java                 3\n",
       "HTML                 2\n",
       "Kotlin               1\n",
       "BitBake              1\n",
       "Swift                1\n",
       "CSS                  1\n",
       "CMake                1\n",
       "Mustache             1\n",
       "PHP                  1\n",
       "Rust                 1\n",
       "Name: language, dtype: int64"
      ]
     },
     "execution_count": 18,
     "metadata": {},
     "output_type": "execute_result"
    }
   ],
   "source": [
    "data.language.value_counts(dropna=False)"
   ]
  },
  {
   "cell_type": "code",
   "execution_count": 21,
   "id": "9b815ad0",
   "metadata": {},
   "outputs": [],
   "source": [
    "data = data.dropna()"
   ]
  },
  {
   "cell_type": "code",
   "execution_count": null,
   "id": "7ba2e0b7",
   "metadata": {},
   "outputs": [],
   "source": []
  },
  {
   "cell_type": "code",
   "execution_count": 37,
   "id": "795be0e9",
   "metadata": {},
   "outputs": [
    {
     "name": "stderr",
     "output_type": "stream",
     "text": [
      "/var/folders/0j/dh4q6gzs5xq4fv119n901xmw0000gn/T/ipykernel_4330/450580258.py:3: SettingWithCopyWarning: \n",
      "A value is trying to be set on a copy of a slice from a DataFrame.\n",
      "Try using .loc[row_indexer,col_indexer] = value instead\n",
      "\n",
      "See the caveats in the documentation: https://pandas.pydata.org/pandas-docs/stable/user_guide/indexing.html#returning-a-view-versus-a-copy\n",
      "  data.language = np.where(data.language.isin(l), data.language, 'Other')\n"
     ]
    }
   ],
   "source": [
    "l = ['C#', 'HCL', 'Go', 'TypeScript', 'Python', 'JavaScript']\n",
    "\n",
    "data.language = np.where(data.language.isin(l), data.language, 'Other')"
   ]
  },
  {
   "cell_type": "code",
   "execution_count": 38,
   "id": "d6dff79c",
   "metadata": {},
   "outputs": [
    {
     "data": {
      "text/plain": [
       "Other         46\n",
       "C#            20\n",
       "HCL           19\n",
       "Go            17\n",
       "TypeScript    14\n",
       "Python         9\n",
       "JavaScript     8\n",
       "Name: language, dtype: int64"
      ]
     },
     "execution_count": 38,
     "metadata": {},
     "output_type": "execute_result"
    }
   ],
   "source": [
    "data.language.value_counts()"
   ]
  },
  {
   "cell_type": "markdown",
   "id": "87eb89ab",
   "metadata": {},
   "source": [
    "- handled nulls\n",
    "- converted things to Other"
   ]
  },
  {
   "cell_type": "code",
   "execution_count": null,
   "id": "a76050f4",
   "metadata": {},
   "outputs": [],
   "source": []
  }
 ],
 "metadata": {
  "kernelspec": {
   "display_name": "Python 3 (ipykernel)",
   "language": "python",
   "name": "python3"
  },
  "language_info": {
   "codemirror_mode": {
    "name": "ipython",
    "version": 3
   },
   "file_extension": ".py",
   "mimetype": "text/x-python",
   "name": "python",
   "nbconvert_exporter": "python",
   "pygments_lexer": "ipython3",
   "version": "3.9.13"
  }
 },
 "nbformat": 4,
 "nbformat_minor": 5
}
